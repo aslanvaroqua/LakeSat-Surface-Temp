{
  "cells": [
    {
      "cell_type": "code",
      "execution_count": 5,
      "outputs": [
        {
          "traceback": [
            "\u001b[1;31m---------------------------------------------------------------------------\u001b[0m",
            "\u001b[1;31mModuleNotFoundError\u001b[0m                       Traceback (most recent call last)",
            "\u001b[1;32m\u003cipython-input-5-d890b73d2f07\u003e\u001b[0m in \u001b[0;36m\u003cmodule\u003e\u001b[1;34m\u001b[0m\n\u001b[1;32m----\u003e 1\u001b[1;33m \u001b[1;32mfrom\u001b[0m \u001b[0mosgeo\u001b[0m \u001b[1;32mimport\u001b[0m \u001b[0mgdal\u001b[0m\u001b[1;33m,\u001b[0m \u001b[0mgdalnumeric\u001b[0m\u001b[1;33m,\u001b[0m \u001b[0mogr\u001b[0m\u001b[1;33m,\u001b[0m \u001b[0mosr\u001b[0m\u001b[1;33m\u001b[0m\u001b[1;33m\u001b[0m\u001b[0m\n\u001b[0m\u001b[0;32m      2\u001b[0m \u001b[1;32mimport\u001b[0m \u001b[0mos\u001b[0m\u001b[1;33m,\u001b[0m \u001b[0msys\u001b[0m\u001b[1;33m\u001b[0m\u001b[1;33m\u001b[0m\u001b[0m\n\u001b[0;32m      3\u001b[0m \u001b[1;32mimport\u001b[0m \u001b[0mmath\u001b[0m\u001b[1;33m\u001b[0m\u001b[1;33m\u001b[0m\u001b[0m\n\u001b[0;32m      4\u001b[0m \u001b[1;32mimport\u001b[0m \u001b[0moperator\u001b[0m\u001b[1;33m\u001b[0m\u001b[1;33m\u001b[0m\u001b[0m\n\u001b[0;32m      5\u001b[0m \u001b[0mgdal\u001b[0m\u001b[1;33m.\u001b[0m\u001b[0mUseExceptions\u001b[0m\u001b[1;33m(\u001b[0m\u001b[1;33m)\u001b[0m\u001b[1;33m\u001b[0m\u001b[1;33m\u001b[0m\u001b[0m\n",
            "\u001b[1;31mModuleNotFoundError\u001b[0m: No module named \u0027osgeo\u0027"
          ],
          "ename": "ModuleNotFoundError",
          "evalue": "No module named \u0027osgeo\u0027",
          "output_type": "error"
        }
      ],
      "source": "from osgeo import gdal, gdalnumeric, ogr, osr\nimport os, sys\nimport math\nimport operator\ngdal.UseExceptions()\n\ndef CLIP( shapefile_path, raster_path, outputName ):\n    # Load the source data as a gdalnumeric array\n    #shapefile_path \u003d \"C:/Users/Ray/Desktop/Clip/studyArea.shp\"\n    shapefile_path \u003d str(shapefile_path)\n    raster_path \u003d str(raster_path)\n    #raster_path \u003d \"C:/Users/Ray/Desktop/Clip/1.tif\"\n    print (shapefile_path)\n    print (raster_path)\n    srcArray \u003d gdalnumeric.LoadFile(raster_path)\n\n    # Also load as a gdal image to get geotransform\n    # (world file) info\n    srcImage \u003d gdal.Open(raster_path)\n    geoTrans \u003d srcImage.GetGeoTransform()\n\n    # Create an OGR layer from a boundary shapefile\n    print( shapefile_path)\n\n    shapef \u003d ogr.Open(shapefile_path)\n    print (type(shapef))\n    lyr \u003d shapef.GetLayer( os.path.split( os.path.splitext( shapefile_path )[0] )[1] )\n    poly \u003d lyr.GetNextFeature()\n\n    # Convert the layer extent to image pixel coordinates\n    minX, maxX, minY, maxY \u003d lyr.GetExtent()\n    ulX, ulY \u003d world2Pixel(geoTrans, minX, maxY)\n    lrX, lrY \u003d world2Pixel(geoTrans, maxX, minY)\n\n    # Calculate the pixel size of the new image\n    pxWidth \u003d int(lrX - ulX)\n    pxHeight \u003d int(lrY - ulY)\n\n    clip \u003d srcArray[ ulY:lrY, ulX:lrX]\n\n    #\n    # EDIT: create pixel offset to pass to new image Projection info\n    #\n    xoffset \u003d  ulX\n    yoffset \u003d  ulY\n    print( \"Xoffset, Yoffset \u003d ( %f, %f )\" % ( xoffset, yoffset ))\n    \n    # Create a new geomatrix for the image\n    geoTrans \u003d list(geoTrans)\n    geoTrans[0] \u003d minX\n    geoTrans[3] \u003d maxY\n\n    # Map points to pixels for drawing the\n    # boundary on a blank 8-bit,\n    # black and white, mask image.\n    points \u003d []\n    pixels \u003d []\n    geom \u003d poly.GetGeometryRef()\n    pts \u003d geom.GetGeometryRef(0)\n    for p in range(pts.GetPointCount()):\n      points.append((pts.GetX(p), pts.GetY(p)))\n    for p in points:\n      pixels.append(world2Pixel(geoTrans, p[0], p[1]))\n    rasterPoly \u003d Image.new(\"L\", (pxWidth, pxHeight), 1)\n    rasterize \u003d ImageDraw.Draw(rasterPoly)\n    rasterize.polygon(pixels, 0)\n    mask \u003d imageToArray(rasterPoly)\n\n    # Clip the image using the mask\n    clip \u003d gdalnumeric.choose(mask, \\\n        (clip, 0)).astype(\u0027float64\u0027)\n\n\n    # Save new tiff\n    #\n    #  EDIT: instead of SaveArray, let\u0027s break all the\n    #  SaveArray steps out more explicity so\n    #  we can overwrite the offset of the destination\n    #  raster\n    #\n    ### the old way using SaveArray\n    #\n    # gdalnumeric.SaveArray(clip, \"OUTPUT.tif\", format\u003d\"GTiff\", prototype\u003draster_path)\n    #\n    ###\n    #\n    gtiffDriver \u003d gdal.GetDriverByName( \u0027GTiff\u0027 )\n    if gtiffDriver is None:\n        raise ValueError(\"Can\u0027t find GeoTiff Driver\")\n    gtiffDriver.CreateCopy( outputName,\n        OpenArray( clip, prototype_ds\u003draster_path, xoff\u003dxoffset, yoff\u003dyoffset )\n    )\n\n    # Save as an 8-bit jpeg for an easy, quick preview\n    clip \u003d clip.astype(\u0027float64\u0027)\n    \n# Install a pip package in the current Jupyter kernel\nimport sys\n!{sys.executable} -m pip install requests\n!{sys.executable} -m pip install gdal\n",
      "metadata": {
        "pycharm": {
          "metadata": false,
          "name": "#%%\n",
          "is_executing": false
        }
      }
    },
    {
      "cell_type": "code",
      "execution_count": 6,
      "outputs": [
        {
          "traceback": [
            "\u001b[1;31m---------------------------------------------------------------------------\u001b[0m",
            "\u001b[1;31mModuleNotFoundError\u001b[0m                       Traceback (most recent call last)",
            "\u001b[1;32m\u003cipython-input-6-b4806cb8c7e8\u003e\u001b[0m in \u001b[0;36m\u003cmodule\u003e\u001b[1;34m\u001b[0m\n\u001b[0;32m      6\u001b[0m \u001b[1;32mfrom\u001b[0m \u001b[0murllib\u001b[0m\u001b[1;33m.\u001b[0m\u001b[0mparse\u001b[0m \u001b[1;32mimport\u001b[0m \u001b[0murlparse\u001b[0m\u001b[1;33m\u001b[0m\u001b[1;33m\u001b[0m\u001b[0m\n\u001b[0;32m      7\u001b[0m \u001b[1;32mimport\u001b[0m \u001b[0mshutil\u001b[0m\u001b[1;33m\u001b[0m\u001b[1;33m\u001b[0m\u001b[0m\n\u001b[1;32m----\u003e 8\u001b[1;33m \u001b[1;32mfrom\u001b[0m \u001b[0mosgeo\u001b[0m \u001b[1;32mimport\u001b[0m \u001b[0mgdal\u001b[0m\u001b[1;33m\u001b[0m\u001b[1;33m\u001b[0m\u001b[0m\n\u001b[0m\u001b[0;32m      9\u001b[0m \u001b[1;33m\u001b[0m\u001b[0m\n",
            "\u001b[1;31mModuleNotFoundError\u001b[0m: No module named \u0027osgeo\u0027"
          ],
          "ename": "ModuleNotFoundError",
          "evalue": "No module named \u0027osgeo\u0027",
          "output_type": "error"
        }
      ],
      "source": "import requests\nimport json\nimport getpass\nimport os\nimport tarfile\nfrom urllib.parse import urlparse\nimport shutil\nfrom osgeo import gdal\n",
      "metadata": {
        "pycharm": {
          "metadata": false,
          "name": "#%%\n",
          "is_executing": false
        }
      }
    },
    {
      "cell_type": "code",
      "execution_count": 2,
      "outputs": [],
      "source": "def get_apikey(username, password):\n    payload \u003d dict(username\u003dusername, password\u003dpassword, catalogId\u003d\u0027EE\u0027, authType\u003d\u0027EROS\u0027)\n    data \u003d dict(jsonRequest\u003djson.dumps(payload))\n    r \u003d requests.post(\u0027https://earthexplorer.usgs.gov/inventory/json/v/1.4.0/login\u0027, data\u003ddata)\n    creds \u003d r.json()\n    apiKey \u003d creds[\u0027data\u0027]\n    return apiKey\n",
      "metadata": {
        "pycharm": {
          "metadata": false,
          "name": "#%%\n",
          "is_executing": false
        }
      }
    },
    {
      "cell_type": "code",
      "execution_count": 3,
      "outputs": [],
      "source": "username \u003d \u0027skylinegis\u0027\npassword \u003d \u0027pepsiav123pepsiav123\u0027",
      "metadata": {
        "pycharm": {
          "metadata": false,
          "name": "#%%\n",
          "is_executing": false
        }
      }
    },
    {
      "cell_type": "code",
      "execution_count": 4,
      "outputs": [],
      "source": "apiKey \u003d get_apikey(username, password)",
      "metadata": {
        "pycharm": {
          "metadata": false,
          "name": "#%%\n",
          "is_executing": false
        }
      }
    },
    {
      "cell_type": "code",
      "execution_count": 6,
      "outputs": [],
      "source": "\ndef get_scenes(region, horizontal, vertical):\n    myfilter \u003d {\n            \"filterType\": \"and\", \n            \"childFilters\": [\n                {\"filterType\":\"value\",\"fieldId\":21789,\"value\":region}, #Grid Region\n                {\"filterType\":\"value\",\"fieldId\":21787,\"value\":horizontal}, #Horizontal\n                {\"filterType\":\"value\",\"fieldId\":21788,\"value\":vertical}, #Vertical\n            ]\n        }\n\n    request_code \u003d \u0027search\u0027\n    baseurl \u003d f\u0027https://earthexplorer.usgs.gov/inventory/json/v/1.4.0/{request_code}\u0027\n    payload \u003d {\u0027apiKey\u0027:apiKey, \n               \u0027datasetName\u0027: \u0027ARD_TILE\u0027, \n               \u0027additionalCriteria\u0027: myfilter,  \n               \u0027maxResults\u0027:10000}\n    data \u003d dict(jsonRequest\u003djson.dumps(payload))\n    r \u003d requests.get(baseurl, params\u003ddata)\n    response \u003d r.json()\n    print(response)\n    return response",
      "metadata": {
        "pycharm": {
          "metadata": false,
          "name": "#%%\n",
          "is_executing": false
        }
      }
    },
    {
      "cell_type": "raw",
      "source": "json \u003d r.json()\nfeatures \u003d rawjson[\u0027featur\nh \u003d features[0][\u0027attributes\u0027][\u0027H\u0027]\nv \u003d features[0][\u0027attributes\u0027][\u0027V\u0027]\nprint(h)\nprint(v)",
      "metadata": {
        "pycharm": {
          "metadata": false
        }
      }
    },
    {
      "cell_type": "code",
      "execution_count": null,
      "outputs": [],
      "source": "lat \u003d \u0027-105.05487442016603\u0027\nlon \u003d \u002740.35345235\u0027\nconverturl \u003d \u0027https://landsatlook.usgs.gov/arcgis/rest/services/LLook_Outlines/MapServer/6/query?where\u003d1%3D1\u0026outSr\u003d4326\u0026outFields\u003dH,V\u0026inSr\u003d4326\u0026geometry\u003d%7B%22x%22%3A\u0027 + lat + \u0027%2C%22y%22%3A\u0027 + lon + \u0027%2C%22spatialReference%22%3A%7B%22wkid%22%3A4326%7D%7D\u0026geometryType\u003desriGeometryPoint\u0026spatialRel\u003desriSpatialRelIntersects\u0026orderByFields\u003dH%20ASC\u0026f\u003djson\u0027\nprint(converturl)\nr \u003d requests.get(converturl)\n# Query USGS Earth Explorer API for scenes\nregion\u003d\u0027CU\u0027\nhorizontal\u003dh\nvertical\u003dv",
      "metadata": {
        "pycharm": {
          "metadata": false,
          "name": "#%%es\u0027]\n"
        }
      }
    },
    {
      "cell_type": "code",
      "execution_count": 10,
      "outputs": [
        {
          "name": "stderr",
          "text": [
            "IOPub data rate exceeded.\nThe notebook server will temporarily stop sending output\nto the client in order to avoid crashing it.\nTo change this limit, set the config variable\n`--NotebookApp.iopub_data_rate_limit`.\n\nCurrent values:\nNotebookApp.iopub_data_rate_limit\u003d1000000.0 (bytes/sec)\nNotebookApp.rate_limit_window\u003d3.0 (secs)\n\n"
          ],
          "output_type": "stream"
        }
      ],
      "source": "response \u003d get_scenes(region, horizontal, vertical)\n",
      "metadata": {
        "pycharm": {
          "metadata": false,
          "name": "#%%\n",
          "is_executing": false
        }
      }
    },
    {
      "cell_type": "code",
      "execution_count": 11,
      "outputs": [
        {
          "name": "stderr",
          "text": [
            "IOPub data rate exceeded.\nThe notebook server will temporarily stop sending output\nto the client in order to avoid crashing it.\nTo change this limit, set the config variable\n`--NotebookApp.iopub_data_rate_limit`.\n\nCurrent values:\nNotebookApp.iopub_data_rate_limit\u003d1000000.0 (bytes/sec)\nNotebookApp.rate_limit_window\u003d3.0 (secs)\n\n"
          ],
          "output_type": "stream"
        }
      ],
      "source": "\nprint(response)\nprint(\u0027Found {} scenes\u0027.format(response[\u0027data\u0027][\u0027totalHits\u0027]))\nprint(\u0027Returned {} scenes\u0027.format(response[\u0027data\u0027][\u0027numberReturned\u0027]))\nprint(\u0027First acquisition: \u0027, response[\u0027data\u0027][\u0027results\u0027][0][\u0027acquisitionDate\u0027])\nprint(\u0027Last acquisition: \u0027, response[\u0027data\u0027][\u0027results\u0027][-1][\u0027acquisitionDate\u0027])\n",
      "metadata": {
        "pycharm": {
          "metadata": false,
          "name": "#%%\n",
          "is_executing": false
        }
      }
    }
  ],
  "metadata": {
    "language_info": {
      "codemirror_mode": {
        "name": "ipython",
        "version": 2
      },
      "file_extension": ".py",
      "mimetype": "text/x-python",
      "name": "python",
      "nbconvert_exporter": "python",
      "pygments_lexer": "ipython2",
      "version": "2.7.6"
    },
    "kernelspec": {
      "name": "python3",
      "language": "python",
      "display_name": "Python 3"
    },
    "stem_cell": {
      "cell_type": "raw",
      "source": "",
      "metadata": {
        "pycharm": {
          "metadata": false
        }
      }
    }
  },
  "nbformat": 4,
  "nbformat_minor": 0
}